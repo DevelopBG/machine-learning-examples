{
 "cells": [
  {
   "cell_type": "markdown",
   "metadata": {
    "deletable": true,
    "editable": true
   },
   "source": [
    "### Aternating Least Squares"
   ]
  },
  {
   "cell_type": "code",
   "execution_count": 1,
   "metadata": {
    "collapsed": true,
    "deletable": true,
    "editable": true
   },
   "outputs": [],
   "source": [
    "import numpy as np\n",
    "import pandas as pd\n",
    "from matplotlib import pylab as plt\n",
    "%matplotlib inline"
   ]
  },
  {
   "cell_type": "code",
   "execution_count": 183,
   "metadata": {
    "collapsed": false,
    "deletable": true,
    "editable": true
   },
   "outputs": [
    {
     "data": {
      "text/plain": [
       "array([[ 5.,  5.,  0.,  4.,  1.,  0.,  0.,  0.,  0.,  1.,  5.,  5.,  4.,\n",
       "         5.,  0.,  5.,  4.,  5.,  0.],\n",
       "       [ 4.,  0.,  4.,  5.,  0.,  2.,  0.,  1.,  1.,  1.,  4.,  0.,  5.,\n",
       "         5.,  5.,  0.,  5.,  0.,  0.],\n",
       "       [ 0.,  0.,  0.,  2.,  0.,  1.,  0.,  0.,  0.,  0.,  0.,  1.,  0.,\n",
       "         1.,  1.,  0.,  0.,  0.,  0.],\n",
       "       [ 0.,  1.,  0.,  0.,  0.,  4.,  5.,  0.,  4.,  5.,  0.,  0.,  1.,\n",
       "         0.,  0.,  0.,  1.,  1.,  0.],\n",
       "       [ 1.,  0.,  1.,  0.,  5.,  0.,  4.,  4.,  5.,  0.,  1.,  0.,  0.,\n",
       "         0.,  1.,  0.,  1.,  1.,  1.]])"
      ]
     },
     "execution_count": 183,
     "metadata": {},
     "output_type": "execute_result"
    }
   ],
   "source": [
    "user_movie_ratings = [\n",
    "    (1, 1, 5),\n",
    "    (1, 2, 4),\n",
    "    (1, 5, 1),\n",
    "    (2, 1, 5),\n",
    "    (2, 4, 1),\n",
    "    (3, 5, 1),\n",
    "    (3, 2, 4),\n",
    "    (4, 3, 2),\n",
    "    (4, 1, 4),\n",
    "    (4, 2, 5),\n",
    "    (5, 1, 1),\n",
    "    (5, 5, 5),\n",
    "    (6, 2, 2),\n",
    "    (6, 4, 4),\n",
    "    (6, 3, 1),\n",
    "    (7, 5, 4),\n",
    "    (7, 4, 5),\n",
    "    (8, 2, 1),\n",
    "    (8, 5, 4),\n",
    "    (9, 4, 4),\n",
    "    (9, 5, 5),\n",
    "    (9, 2, 1),\n",
    "    (10, 2, 1),\n",
    "    (10, 1, 1),\n",
    "    (10, 4, 5),\n",
    "    (11, 1, 5),\n",
    "    (11, 2, 4),\n",
    "    (11, 5, 1),\n",
    "    (12, 1, 5),\n",
    "    (12, 3, 1),\n",
    "    (13, 1, 4),\n",
    "    (13, 2, 5),\n",
    "    (13, 4, 1),\n",
    "    (14, 1, 5),\n",
    "    (14, 2, 5),\n",
    "    (14, 3, 1),\n",
    "    (15, 2, 5),\n",
    "    (15, 3, 1),\n",
    "    (15, 5, 1),\n",
    "    (16, 1, 5),\n",
    "    (17, 1, 4),\n",
    "    (17, 2, 5),\n",
    "    (17, 4, 1),\n",
    "    (17, 5, 1),\n",
    "    (18, 1, 5),\n",
    "    (18, 5, 1),\n",
    "    (18, 4, 1),\n",
    "    (19, 5, 1),\n",
    "]\n",
    "\n",
    "user_max_id = np.amax(user_movie_ratings, axis=0)[0]\n",
    "movie_max_id = np.amax(user_movie_ratings, axis=1)[0]\n",
    "\n",
    "A = np.zeros((movie_max_id, user_max_id))\n",
    "for i in user_movie_ratings:\n",
    "    A[i[1] - 1][i[0] - 1] = i[2]\n",
    "A"
   ]
  },
  {
   "cell_type": "code",
   "execution_count": 190,
   "metadata": {
    "collapsed": false,
    "deletable": true,
    "editable": true
   },
   "outputs": [
    {
     "data": {
      "text/plain": [
       "array([[ 1.,  1.,  0.,  1.,  1.,  0.,  0.,  0.,  0.,  1.,  1.,  1.,  1.,\n",
       "         1.,  0.,  1.,  1.,  1.,  0.],\n",
       "       [ 1.,  0.,  1.,  1.,  0.,  1.,  0.,  1.,  1.,  1.,  1.,  0.,  1.,\n",
       "         1.,  1.,  0.,  1.,  0.,  0.],\n",
       "       [ 0.,  0.,  0.,  1.,  0.,  1.,  0.,  0.,  0.,  0.,  0.,  1.,  0.,\n",
       "         1.,  1.,  0.,  0.,  0.,  0.],\n",
       "       [ 0.,  1.,  0.,  0.,  0.,  1.,  1.,  0.,  1.,  1.,  0.,  0.,  1.,\n",
       "         0.,  0.,  0.,  1.,  1.,  0.],\n",
       "       [ 1.,  0.,  1.,  0.,  1.,  0.,  1.,  1.,  1.,  0.,  1.,  0.,  0.,\n",
       "         0.,  1.,  0.,  1.,  1.,  1.]])"
      ]
     },
     "execution_count": 190,
     "metadata": {},
     "output_type": "execute_result"
    }
   ],
   "source": [
    "RANK = 5\n",
    "U = np.random.rand(movie_max_id, RANK)\n",
    "M = np.random.rand(RANK, user_max_id)\n",
    "\n",
    "W = np.copy(A)\n",
    "W[W!=0] = 1\n",
    "W"
   ]
  },
  {
   "cell_type": "code",
   "execution_count": 191,
   "metadata": {
    "collapsed": false,
    "deletable": true,
    "editable": true
   },
   "outputs": [
    {
     "name": "stdout",
     "output_type": "stream",
     "text": [
      "344.265171421\n",
      "211.098239596\n",
      "140.910095498\n",
      "110.929470103\n",
      "97.9878261018\n",
      "91.0196535429\n",
      "86.1914536527\n",
      "82.13538932\n",
      "78.2587791135\n",
      "74.2569605764\n",
      "69.9623381193\n",
      "65.2918738966\n",
      "60.2283664907\n",
      "54.8133269715\n",
      "49.1412078715\n",
      "43.3496425643\n",
      "37.6038255018\n",
      "32.0762319182\n",
      "26.9250846948\n",
      "22.2757422192\n",
      "18.2084932642\n",
      "14.7546015326\n",
      "11.9004315286\n",
      "9.5976382527\n",
      "7.77625363847\n",
      "6.35743433961\n",
      "5.26355916256\n",
      "4.42472626052\n",
      "3.78187078912\n",
      "3.28736653652\n",
      "2.90410718825\n",
      "2.60388757833\n",
      "2.36563010292\n",
      "2.17375354383\n",
      "2.01680733118\n",
      "1.88639216663\n",
      "1.77633835622\n",
      "1.6820956015\n",
      "1.60028705282\n",
      "1.52838662463\n"
     ]
    }
   ],
   "source": [
    "eta = 0.02\n",
    "for i in range(40):\n",
    "    error = np.sum(np.power(W * (A - U.dot(M)), 2))\n",
    "    print(error)\n",
    "    dU = -(W * (A - U.dot(M))).dot(M.T)\n",
    "    U = U - eta * dU\n",
    "    dM = -U.T.dot(W * (A - U.dot(M)))\n",
    "    M = M - eta * dM"
   ]
  },
  {
   "cell_type": "code",
   "execution_count": 192,
   "metadata": {
    "collapsed": false
   },
   "outputs": [
    {
     "name": "stdout",
     "output_type": "stream",
     "text": [
      "[ 5.  0.  0.  0.  0.]\n",
      "[ 5.   4.3  1.4  4.2  3.5]\n"
     ]
    }
   ],
   "source": [
    "i = 15\n",
    "print(A[:,i])\n",
    "print(U.dot(M).round(1)[:,i])"
   ]
  },
  {
   "cell_type": "code",
   "execution_count": null,
   "metadata": {
    "collapsed": true,
    "deletable": true,
    "editable": true
   },
   "outputs": [],
   "source": []
  },
  {
   "cell_type": "code",
   "execution_count": null,
   "metadata": {
    "collapsed": true
   },
   "outputs": [],
   "source": []
  }
 ],
 "metadata": {
  "kernelspec": {
   "display_name": "Python 3",
   "language": "python",
   "name": "python3"
  },
  "language_info": {
   "codemirror_mode": {
    "name": "ipython",
    "version": 3
   },
   "file_extension": ".py",
   "mimetype": "text/x-python",
   "name": "python",
   "nbconvert_exporter": "python",
   "pygments_lexer": "ipython3",
   "version": "3.6.0"
  }
 },
 "nbformat": 4,
 "nbformat_minor": 0
}
