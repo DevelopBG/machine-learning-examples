{
 "cells": [
  {
   "cell_type": "markdown",
   "metadata": {
    "deletable": true,
    "editable": true
   },
   "source": [
    "### Aternating Least Squares"
   ]
  },
  {
   "cell_type": "code",
   "execution_count": 109,
   "metadata": {
    "collapsed": true,
    "deletable": true,
    "editable": true
   },
   "outputs": [],
   "source": [
    "import numpy as np\n",
    "import pandas as pd\n",
    "from matplotlib import pylab as plt\n",
    "%matplotlib inline"
   ]
  },
  {
   "cell_type": "code",
   "execution_count": 110,
   "metadata": {
    "collapsed": false,
    "deletable": true,
    "editable": true
   },
   "outputs": [
    {
     "name": "stdout",
     "output_type": "stream",
     "text": [
      "[[-0.74999998 -0.05000765]\n",
      " [ 0.78267947  0.74945032]\n",
      " [-0.79017803  0.31069952]]\n",
      "[[-0.76619522  1.24072827  0.80256836 -1.44095286  0.88351898]\n",
      " [ 1.70313438 -2.10460196  1.57452137 -0.70528595 -0.87542303]]\n"
     ]
    }
   ],
   "source": [
    "## Y = A*B\n",
    "\n",
    "M = 3\n",
    "N = 5\n",
    "K = 2\n",
    "\n",
    "A_true = np.mat(np.random.randn(M, K))\n",
    "B_true = np.mat(np.random.randn(K, N))\n",
    "print A_true\n",
    "print B_true"
   ]
  },
  {
   "cell_type": "code",
   "execution_count": 111,
   "metadata": {
    "collapsed": false,
    "deletable": true,
    "editable": true
   },
   "outputs": [
    {
     "data": {
      "text/plain": [
       "[<matplotlib.lines.Line2D at 0x11337db90>]"
      ]
     },
     "execution_count": 111,
     "metadata": {},
     "output_type": "execute_result"
    },
    {
     "data": {
      "image/png": "[encoded data removed]",
      "text/plain": [
       "<matplotlib.figure.Figure at 0x112f9fc90>"
      ]
     },
     "metadata": {},
     "output_type": "display_data"
    }
   ],
   "source": [
    "Y = A_true*B_true + 0.01 * np.random.randn(M, N)\n",
    "\n",
    "U,S,VT = np.linalg.svd(Y)\n",
    "\n",
    "plt.plot(S)"
   ]
  },
  {
   "cell_type": "code",
   "execution_count": 112,
   "metadata": {
    "collapsed": false,
    "deletable": true,
    "editable": true
   },
   "outputs": [
    {
     "name": "stdout",
     "output_type": "stream",
     "text": [
      "[[-0.74646574  1.2404609   0.80147564 -1.43755358  0.88762876]\n",
      " [ 1.6909715  -2.11632333  1.58069405 -0.68904013 -0.88817398]]\n",
      "[[-0.76619522  1.24072827  0.80256836 -1.44095286  0.88351898]\n",
      " [ 1.70313438 -2.10460196  1.57452137 -0.70528595 -0.87542303]]\n"
     ]
    }
   ],
   "source": [
    "B = np.linalg.pinv(A_true)*Y\n",
    "print(B)\n",
    "print(B_true)"
   ]
  },
  {
   "cell_type": "code",
   "execution_count": 113,
   "metadata": {
    "collapsed": false,
    "deletable": true,
    "editable": true
   },
   "outputs": [
    {
     "name": "stdout",
     "output_type": "stream",
     "text": [
      "[[ 0.75468432  0.09570988]\n",
      " [ 1.2271405  -0.89352063]\n",
      " [ 1.0929551  -0.13919028]]\n",
      "[[ 1.93657925  1.25404367 -0.18884194 -0.21987335 -0.69236316]\n",
      " [ 1.02234524 -1.07801519 -0.36108822 -0.24760247 -0.46300585]]\n"
     ]
    }
   ],
   "source": [
    "A = np.mat(np.random.randn(M, K))\n",
    "B = np.mat(np.random.randn(K, N))\n",
    "print A\n",
    "print B"
   ]
  },
  {
   "cell_type": "code",
   "execution_count": 114,
   "metadata": {
    "collapsed": false,
    "deletable": true,
    "editable": true
   },
   "outputs": [
    {
     "name": "stdout",
     "output_type": "stream",
     "text": [
      "\n",
      "0.iteration\n",
      "error 34.0132382171\n",
      "error 0.364141221241\n",
      "error 0.000247868162967\n",
      "\n",
      "1.iteration\n",
      "error 0.000247868162967\n",
      "error 0.000235472189778\n",
      "error 0.000235471778204\n",
      "\n",
      "2.iteration\n",
      "error 0.000235471778204\n",
      "error 0.00023547177819\n",
      "error 0.00023547177819\n"
     ]
    }
   ],
   "source": [
    "def calcError(A, B, Y):\n",
    "    Y_est = A * B\n",
    "    E = Y - Y_est\n",
    "    err = np.sum(np.power(np.array(E), 2))\n",
    "    return err\n",
    "\n",
    "for e in range(3):\n",
    "    print(\"\\n{}.iteration\".format(e))\n",
    "    err = calcError(A, B, Y)\n",
    "    print(\"error {}\".format(err))\n",
    "    \n",
    "    B = np.linalg.pinv(A) * Y\n",
    "    \n",
    "    err = calcError(A, B, Y)\n",
    "    print(\"error {}\".format(err))\n",
    "    \n",
    "    A = (np.linalg.pinv(B.T) * Y.T).T\n",
    "\n",
    "    err = calcError(A, B, Y)\n",
    "    print(\"error {}\".format(err))"
   ]
  },
  {
   "cell_type": "code",
   "execution_count": 118,
   "metadata": {
    "collapsed": false,
    "deletable": true,
    "editable": true
   },
   "outputs": [
    {
     "name": "stdout",
     "output_type": "stream",
     "text": [
      "[[ 1.49271901  0.09591168]\n",
      " [ 2.09648248  1.1766208 ]\n",
      " [-0.30242095 -0.70817388]]\n",
      "[[-0.2627704  -0.89251764 -1.7932561   0.24007537 -1.60292735]\n",
      " [-0.96798084  0.84358299  0.06379516 -1.01190793 -0.42444443]]\n",
      "\n",
      "0.iteration\n",
      "error 66.5609466777\n",
      "error 3.6454822564\n",
      "error 0.000534182173417\n",
      "\n",
      "1.iteration\n",
      "error 0.000534182173417\n",
      "error 0.000235482602798\n",
      "error 0.000235471778584\n",
      "\n",
      "2.iteration\n",
      "error 0.000235471778584\n",
      "error 0.00023547177819\n",
      "error 0.00023547177819\n"
     ]
    }
   ],
   "source": [
    "A = np.mat(np.random.randn(M, K))\n",
    "B = np.mat(np.random.randn(K, N))\n",
    "print A\n",
    "print B\n",
    "\n",
    "def calcError(A, B, Y):\n",
    "    Y_est = A * B\n",
    "    E = Y - Y_est\n",
    "    err = np.sum(np.power(np.array(E), 2))\n",
    "    return err\n",
    "\n",
    "for e in range(3):\n",
    "    print(\"\\n{}.iteration\".format(e))\n",
    "    err = calcError(A, B, Y)\n",
    "    print(\"error {}\".format(err))\n",
    "    \n",
    "    B = np.linalg.pinv(A) * Y\n",
    "    \n",
    "    err = calcError(A, B, Y)\n",
    "    print(\"error {}\".format(err))\n",
    "    \n",
    "#     A = Y * B.I\n",
    "    A = (np.linalg.pinv(B.T) * Y.T).T\n",
    "\n",
    "    err = calcError(A, B, Y)\n",
    "    print(\"error {}\".format(err))"
   ]
  },
  {
   "cell_type": "code",
   "execution_count": 106,
   "metadata": {
    "collapsed": false,
    "deletable": true,
    "editable": true
   },
   "outputs": [
    {
     "name": "stdout",
     "output_type": "stream",
     "text": [
      "[[1 3]\n",
      " [2 7]]\n",
      "[[1]\n",
      " [2]]\n",
      "[[ 7]\n",
      " [16]]\n"
     ]
    }
   ],
   "source": [
    "A = np.mat(([1, 3], [2, 7]))\n",
    "B = np.mat(([1], [2]))\n",
    "W = A * B\n",
    "print A\n",
    "print B\n",
    "print W"
   ]
  },
  {
   "cell_type": "code",
   "execution_count": null,
   "metadata": {
    "collapsed": true,
    "deletable": true,
    "editable": true
   },
   "outputs": [],
   "source": []
  }
 ],
 "metadata": {
  "kernelspec": {
   "display_name": "Python 3",
   "language": "python",
   "name": "python3"
  },
  "language_info": {
   "codemirror_mode": {
    "name": "ipython",
    "version": 3
   },
   "file_extension": ".py",
   "mimetype": "text/x-python",
   "name": "python",
   "nbconvert_exporter": "python",
   "pygments_lexer": "ipython3",
   "version": "3.6.0"
  }
 },
 "nbformat": 4,
 "nbformat_minor": 0
}
