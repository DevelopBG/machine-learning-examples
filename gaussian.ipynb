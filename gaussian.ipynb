{
 "cells": [
  {
   "cell_type": "code",
   "execution_count": 77,
   "metadata": {
    "collapsed": true
   },
   "outputs": [],
   "source": [
    "import random\n",
    "import matplotlib.pyplot as plt\n",
    "from mpl_toolkits.mplot3d import Axes3D\n",
    "%matplotlib inline"
   ]
  },
  {
   "cell_type": "markdown",
   "metadata": {},
   "source": [
    "## Gaussian distribution\n",
    "### Generation sample by rolling dices many times"
   ]
  },
  {
   "cell_type": "code",
   "execution_count": 72,
   "metadata": {
    "collapsed": false
   },
   "outputs": [],
   "source": [
    "def rollDice():\n",
    "    return random.randint(1, 6)\n",
    "    \n",
    "def generate():\n",
    "    N = 10000\n",
    "    trials = {}\n",
    "    for i in range(N):\n",
    "        d1 = rollDice()\n",
    "        d2 = rollDice()\n",
    "        s = d1 + d2\n",
    "        trials[s] = trials.get(s, 0) + 1\n",
    "    return trials"
   ]
  },
  {
   "cell_type": "code",
   "execution_count": 73,
   "metadata": {
    "collapsed": false
   },
   "outputs": [
    {
     "data": {
      "image/png": "[encoded data removed]",
      "text/plain": [
       "<matplotlib.figure.Figure at 0x108a7c610>"
      ]
     },
     "metadata": {},
     "output_type": "display_data"
    }
   ],
   "source": [
    "data = generate()\n",
    "plt.bar(data.keys(), data.values())\n",
    "plt.xticks(range(1, 12))\n",
    "plt.show()"
   ]
  },
  {
   "cell_type": "markdown",
   "metadata": {},
   "source": [
    "## Cumulative Distribution"
   ]
  },
  {
   "cell_type": "code",
   "execution_count": 83,
   "metadata": {
    "collapsed": false
   },
   "outputs": [
    {
     "data": {
      "image/png": "[encoded data removed]",
      "text/plain": [
       "<matplotlib.figure.Figure at 0x108278f90>"
      ]
     },
     "metadata": {},
     "output_type": "display_data"
    }
   ],
   "source": [
    "def calcCumulativeDist(data):\n",
    "    s = {}\n",
    "    for i, v in enumerate(data.values()):\n",
    "        s[i] = s.get(i - 1, 0) + v\n",
    "    return s\n",
    "\n",
    "def takeSamples(rangeFrom, rangeTo, n):\n",
    "    return [random.randint(rangeFrom, rangeTo) for i in range(n)]\n",
    "\n",
    "cumulativDist = calcCumulativeDist(data)\n",
    "\n",
    "a = takeSamples(cumulativDist.values()[0], cumulativDist.values()[-1], 20)\n",
    "plt.plot(cumulativDist.keys(), cumulativDist.values())\n",
    "plt.show()"
   ]
  },
  {
   "cell_type": "code",
   "execution_count": null,
   "metadata": {
    "collapsed": true
   },
   "outputs": [],
   "source": []
  }
 ],
 "metadata": {
  "kernelspec": {
   "display_name": "Python 2",
   "language": "python",
   "name": "python2"
  },
  "language_info": {
   "codemirror_mode": {
    "name": "ipython",
    "version": 2
   },
   "file_extension": ".py",
   "mimetype": "text/x-python",
   "name": "python",
   "nbconvert_exporter": "python",
   "pygments_lexer": "ipython2",
   "version": "2.7.10"
  }
 },
 "nbformat": 4,
 "nbformat_minor": 0
}
