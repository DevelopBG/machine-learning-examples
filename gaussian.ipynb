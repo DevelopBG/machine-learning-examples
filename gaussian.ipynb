{
 "cells": [
  {
   "cell_type": "code",
   "execution_count": 12,
   "metadata": {
    "collapsed": true
   },
   "outputs": [],
   "source": [
    "import random\n",
    "from matplotlib import pyplot as plt\n",
    "%matplotlib inline"
   ]
  },
  {
   "cell_type": "markdown",
   "metadata": {},
   "source": [
    "## Gaussian distribution\n",
    "### Generation sample by rolling dices many times"
   ]
  },
  {
   "cell_type": "code",
   "execution_count": 59,
   "metadata": {
    "collapsed": false
   },
   "outputs": [],
   "source": [
    "def rollDice():\n",
    "    return random.randint(1, 6)\n",
    "    \n",
    "def generate():\n",
    "    N = 140\n",
    "    trials = {}\n",
    "    for i in range(N):\n",
    "        d1 = rollDice()\n",
    "        d2 = rollDice()\n",
    "        s = d1 + d2\n",
    "        trials[s] = trials.get(s, 0) + 1\n",
    "    return trials"
   ]
  },
  {
   "cell_type": "code",
   "execution_count": 60,
   "metadata": {
    "collapsed": false
   },
   "outputs": [
    {
     "data": {
      "image/png": "[encoded data removed]",
      "text/plain": [
       "<matplotlib.figure.Figure at 0x108a3c110>"
      ]
     },
     "metadata": {},
     "output_type": "display_data"
    }
   ],
   "source": [
    "sample = generate()\n",
    "plt.bar(sample.keys(), sample.values())\n",
    "plt.xticks(range(1, 12))\n",
    "plt.show()"
   ]
  },
  {
   "cell_type": "markdown",
   "metadata": {},
   "source": [
    "## Cumulative Distribution"
   ]
  },
  {
   "cell_type": "code",
   "execution_count": 61,
   "metadata": {
    "collapsed": false
   },
   "outputs": [
    {
     "name": "stdout",
     "output_type": "stream",
     "text": [
      "0 3\n",
      "1 6\n",
      "2 19\n",
      "3 23\n",
      "4 16\n",
      "5 24\n",
      "6 19\n",
      "7 12\n",
      "8 8\n",
      "9 5\n",
      "10 5\n"
     ]
    },
    {
     "data": {
      "image/png": "[encoded data removed]",
      "text/plain": [
       "<matplotlib.figure.Figure at 0x108bfd710>"
      ]
     },
     "metadata": {},
     "output_type": "display_data"
    }
   ],
   "source": [
    "def calcCumulativeDist(sample):\n",
    "    s = {}\n",
    "    for i, v in enumerate(sample.values()):\n",
    "        s[i] = s.get(i - 1, 0) + v\n",
    "        print i, v\n",
    "    return s\n",
    "\n",
    "cuulativDist = calcCumulativeDist(sample)\n",
    "plt.plot(cuulativDist.keys(), cuulativDist.values())\n",
    "plt.show()"
   ]
  },
  {
   "cell_type": "code",
   "execution_count": null,
   "metadata": {
    "collapsed": true
   },
   "outputs": [],
   "source": []
  }
 ],
 "metadata": {
  "kernelspec": {
   "display_name": "Python 2",
   "language": "python",
   "name": "python2"
  },
  "language_info": {
   "codemirror_mode": {
    "name": "ipython",
    "version": 2
   },
   "file_extension": ".py",
   "mimetype": "text/x-python",
   "name": "python",
   "nbconvert_exporter": "python",
   "pygments_lexer": "ipython2",
   "version": "2.7.10"
  }
 },
 "nbformat": 4,
 "nbformat_minor": 0
}
